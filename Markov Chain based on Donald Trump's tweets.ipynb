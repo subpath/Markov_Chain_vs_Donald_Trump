{
 "cells": [
  {
   "cell_type": "markdown",
   "metadata": {},
   "source": [
    "## Markov Chain based on Donald Trump's tweets\n",
    "\n",
    "Objective was to create text generator based on Markov Chain with pure Python (without ready solutions).\n",
    "In example I used json file with downloaded tweets, that I created with Twitter API.\n"
   ]
  },
  {
   "cell_type": "code",
   "execution_count": 73,
   "metadata": {},
   "outputs": [],
   "source": [
    "import random\n",
    "import json\n",
    "import itertools"
   ]
  },
  {
   "cell_type": "markdown",
   "metadata": {},
   "source": [
    "#### Load data and delete all unnecessary words"
   ]
  },
  {
   "cell_type": "code",
   "execution_count": 74,
   "metadata": {},
   "outputs": [],
   "source": [
    "data = json.load(open('DonaldTrumpTweets.json',  encoding='utf-8'))\n",
    "words = []\n",
    "for tweet in data:\n",
    "    words.append(tweet['text'])\n",
    "words = list(itertools.chain(words))\n",
    "words = ''.join(words).split()\n",
    "words = [word for word in words if 'http' not in word \n",
    "                                 and '@' not in word\n",
    "                                 and '#' not in word\n",
    "                                 and ';' not in word]"
   ]
  },
  {
   "cell_type": "markdown",
   "metadata": {},
   "source": [
    "#### As a result I've got list of words from Trump's tweets"
   ]
  },
  {
   "cell_type": "code",
   "execution_count": 75,
   "metadata": {},
   "outputs": [
    {
     "data": {
      "text/plain": [
       "['HAPPY',\n",
       " 'THANKSGIVING!',\n",
       " 'be',\n",
       " 'doing',\n",
       " 'a',\n",
       " 'live',\n",
       " 'Thanksgiving',\n",
       " 'Video',\n",
       " 'Teleconference',\n",
       " 'with']"
      ]
     },
     "execution_count": 75,
     "metadata": {},
     "output_type": "execute_result"
    }
   ],
   "source": [
    "words[:10]"
   ]
  },
  {
   "cell_type": "markdown",
   "metadata": {},
   "source": [
    "#### Let's create zero-order Markov Chain, meaning that all words chosen randomly"
   ]
  },
  {
   "cell_type": "code",
   "execution_count": 43,
   "metadata": {},
   "outputs": [],
   "source": [
    "def generate_markov_text(words, size):\n",
    "    seed = random.randint(0, len(words)-3)\n",
    "    seed_word, next_word = words[seed], words[seed+1]\n",
    "    w1, w2 = seed_word, next_word\n",
    "    gen_words = []\n",
    "    for i in range(size):\n",
    "        gen_words.append(w1)\n",
    "        w1, w2 = w2, random.choice(words)\n",
    "        gen_words.append(w2)\n",
    "    return ' '.join(gen_words)"
   ]
  },
  {
   "cell_type": "markdown",
   "metadata": {},
   "source": [
    "#### Test results"
   ]
  },
  {
   "cell_type": "code",
   "execution_count": 77,
   "metadata": {},
   "outputs": [
    {
     "data": {
      "text/plain": [
       "'LEAKS on going in on America, in and America, HIRE and in HIRE AMERICA! in time AMERICA! has time come'"
      ]
     },
     "execution_count": 77,
     "metadata": {},
     "output_type": "execute_result"
    }
   ],
   "source": [
    "generate_markov_text(words, 10)"
   ]
  },
  {
   "cell_type": "code",
   "execution_count": 81,
   "metadata": {},
   "outputs": [
    {
     "data": {
      "text/plain": [
       "'Hillary as Clinton, Secretary as Mattis Secretary warns Mattis Kim warns Jung Kim Un Jung “he Un is “he grossly…RT'"
      ]
     },
     "execution_count": 81,
     "metadata": {},
     "output_type": "execute_result"
    }
   ],
   "source": [
    "generate_markov_text(words, 10)"
   ]
  },
  {
   "cell_type": "code",
   "execution_count": 93,
   "metadata": {},
   "outputs": [
    {
     "data": {
      "text/plain": [
       "'Party!Budget just that passed just is passed a is great a healthcare great and healthcare massive and tax massive cuts'"
      ]
     },
     "execution_count": 93,
     "metadata": {},
     "output_type": "execute_result"
    }
   ],
   "source": [
    "generate_markov_text(words, 10)"
   ]
  },
  {
   "cell_type": "markdown",
   "metadata": {},
   "source": [
    "#### Let's do something better - 3rd order Markov Chain, meaning that we will group all words by three"
   ]
  },
  {
   "cell_type": "code",
   "execution_count": 94,
   "metadata": {},
   "outputs": [],
   "source": [
    "def make_triples(words):\n",
    "    output = []\n",
    "    for i in range(len(words)):\n",
    "        try:\n",
    "            output.append((words[i], words[i+1], words[i+2]))\n",
    "        except IndexError:\n",
    "            break\n",
    "    return output"
   ]
  },
  {
   "cell_type": "markdown",
   "metadata": {},
   "source": [
    "#### All words grouped by three"
   ]
  },
  {
   "cell_type": "code",
   "execution_count": 95,
   "metadata": {},
   "outputs": [
    {
     "data": {
      "text/plain": [
       "[('HAPPY', 'THANKSGIVING!', 'be'),\n",
       " ('THANKSGIVING!', 'be', 'doing'),\n",
       " ('be', 'doing', 'a'),\n",
       " ('doing', 'a', 'live'),\n",
       " ('a', 'live', 'Thanksgiving'),\n",
       " ('live', 'Thanksgiving', 'Video'),\n",
       " ('Thanksgiving', 'Video', 'Teleconference'),\n",
       " ('Video', 'Teleconference', 'with'),\n",
       " ('Teleconference', 'with', 'Members'),\n",
       " ('with', 'Members', 'of')]"
      ]
     },
     "execution_count": 95,
     "metadata": {},
     "output_type": "execute_result"
    }
   ],
   "source": [
    "make_triples(words)[:10]"
   ]
  },
  {
   "cell_type": "markdown",
   "metadata": {},
   "source": [
    "#### Generate dictionary, where for every pair of words will be list word that can be followed next"
   ]
  },
  {
   "cell_type": "code",
   "execution_count": 98,
   "metadata": {},
   "outputs": [],
   "source": [
    "def words_grouping(words):\n",
    "    dict_of_words = {}\n",
    "    for w1, w2, w3 in make_triples(words):\n",
    "        key = (w1, w2)\n",
    "        if key in dict_of_words:\n",
    "            dict_of_words[key].append(w3)\n",
    "        else:\n",
    "            dict_of_words[key] = [w3]\n",
    "    return dict_of_words"
   ]
  },
  {
   "cell_type": "markdown",
   "metadata": {},
   "source": [
    "#### Let's modify text genarator"
   ]
  },
  {
   "cell_type": "code",
   "execution_count": 65,
   "metadata": {},
   "outputs": [],
   "source": [
    "def generate_markov_text(words, size):\n",
    "    seed = random.randint(0, len(words)-3)\n",
    "    seed_word, next_word = words[seed], words[seed+1]\n",
    "    w1, w2 = seed_word, next_word\n",
    "    gen_words = []\n",
    "    for i in range(size):\n",
    "        gen_words.append(w1)\n",
    "        w1, w2 = w2, random.choice(words_grouping(words)[(w1,w2)])\n",
    "        gen_words.append(w2)\n",
    "    return ' '.join(gen_words)\n",
    "    "
   ]
  },
  {
   "cell_type": "markdown",
   "metadata": {},
   "source": [
    "#### Checking results"
   ]
  },
  {
   "cell_type": "code",
   "execution_count": 111,
   "metadata": {},
   "outputs": [
    {
     "data": {
      "text/plain": [
       "'GREAT in job Hamburg. in Everybody Hamburg. felt Everybody totally felt safe totally despite safe the despite fact the that'"
      ]
     },
     "execution_count": 111,
     "metadata": {},
     "output_type": "execute_result"
    }
   ],
   "source": [
    "generate_markov_text(words, 10)"
   ]
  },
  {
   "cell_type": "code",
   "execution_count": 113,
   "metadata": {},
   "outputs": [
    {
     "data": {
      "text/plain": [
       "'Trump night Russia.Great in night Iowa in - Iowa special - people. special Thank people. you!Just Thank spoke you!Just to'"
      ]
     },
     "execution_count": 113,
     "metadata": {},
     "output_type": "execute_result"
    }
   ],
   "source": [
    "generate_markov_text(words, 10)"
   ]
  },
  {
   "cell_type": "code",
   "execution_count": 128,
   "metadata": {},
   "outputs": [
    {
     "data": {
      "text/plain": [
       "'ISIS responsibility claims for responsibility hostage for siege hostage in siege Melbourne, in Florida. Melbourne, See Florida. you See soon!'"
      ]
     },
     "execution_count": 128,
     "metadata": {},
     "output_type": "execute_result"
    }
   ],
   "source": [
    "generate_markov_text(words, 10)"
   ]
  }
 ],
 "metadata": {
  "kernelspec": {
   "display_name": "Python 3",
   "language": "python",
   "name": "python3"
  },
  "language_info": {
   "codemirror_mode": {
    "name": "ipython",
    "version": 3
   },
   "file_extension": ".py",
   "mimetype": "text/x-python",
   "name": "python",
   "nbconvert_exporter": "python",
   "pygments_lexer": "ipython3",
   "version": "3.6.3"
  }
 },
 "nbformat": 4,
 "nbformat_minor": 2
}
